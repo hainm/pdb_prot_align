{
 "cells": [
  {
   "cell_type": "markdown",
   "metadata": {},
   "source": [
    "# Interactive structures with nglview\n",
    "The [pdb_prot_align.nglview_struct](https://jbloomlab.github.io/pdb_prot_align/pdb_prot_align.nglview_struct.html) module contains functions that make it easy to manipulate structures using in [nglview](http://nglviewer.org/nglview/latest/index.html).\n",
    "Note that [nglview](http://nglviewer.org/nglview/latest/index.html) is designed for interactive use in a Jupyter notebook, so this example only works if run interactively.\n",
    "\n",
    "This example shows how to color the structure of the CoV Spike, using a measure of alignment variability created by running `pdb_prot_align` in one of the earlier examples.\n",
    "So we first specify the paths of the PDB file and the `*_sites.csv` file created by `pdb_prot_align`:"
   ]
  },
  {
   "cell_type": "code",
   "execution_count": 1,
   "metadata": {},
   "outputs": [],
   "source": [
    "pdbfile = 'input_files/6crv.pdb'\n",
    "sites_csv = 'output_files/beta_coronavirus_Spike_sites.csv'"
   ]
  },
  {
   "cell_type": "markdown",
   "metadata": {},
   "source": [
    "First we import the necessary Python modules, which include [nglview](http://nglviewer.org/nglview/latest/index.html), which you must ensure is [installed](http://nglviewer.org/nglview/latest/index.html#installation).\n",
    "We also import [pdb_prot_align.colorschemes](https://jbloomlab.github.io/pdb_prot_align/pdb_prot_align.colorschemes) and [pdb_prot_align.nglview_struct](https://jbloomlab.github.io/pdb_prot_align/pdb_prot_align.nglview_struct.html) modules:"
   ]
  },
  {
   "cell_type": "code",
   "execution_count": 2,
   "metadata": {},
   "outputs": [
    {
     "data": {
      "application/vnd.jupyter.widget-view+json": {
       "model_id": "6be2b08ef9174cd49058ca4c2dfab358",
       "version_major": 2,
       "version_minor": 0
      },
      "text/plain": [
       "_ColormakerRegistry()"
      ]
     },
     "metadata": {},
     "output_type": "display_data"
    }
   ],
   "source": [
    "import pandas as pd\n",
    "\n",
    "import nglview\n",
    "\n",
    "import pdb_prot_align\n",
    "\n",
    "import pdb_prot_align.colorschemes\n",
    "import pdb_prot_align.nglview_struct"
   ]
  },
  {
   "cell_type": "markdown",
   "metadata": {},
   "source": [
    "We are going to color the structure according to the number of effective amino acids, so we get the maximum number at any site to set the color scale limits (note that it would also be reasonable to color by entropy):"
   ]
  },
  {
   "cell_type": "code",
   "execution_count": null,
   "metadata": {},
   "outputs": [],
   "source": [
    "max_neff = pd.read_csv(sites_csv)['n_effective'].max()\n",
    "print(f\"Max number of effective amino acids is {max_neff:.2f}\")"
   ]
  },
  {
   "cell_type": "markdown",
   "metadata": {},
   "source": [
    "Create a [ValueToColorMap](https://jbloomlab.github.io/pdb_prot_align/pdb_prot_align.colorschemes.html#pdb_prot_align.colorschemes.ValueToColorMap) to map the numerical values to colors:"
   ]
  },
  {
   "cell_type": "code",
   "execution_count": null,
   "metadata": {},
   "outputs": [],
   "source": [
    "color_map = pdb_prot_align.colorschemes.ValueToColorMap(minvalue=1,\n",
    "                                                        maxvalue=max_neff,\n",
    "                                                        cmap='viridis')\n",
    "\n",
    "_ = color_map.scale_bar(label='effective amino acids', orientation='horizontal')"
   ]
  },
  {
   "cell_type": "code",
   "execution_count": 3,
   "metadata": {},
   "outputs": [],
   "source": [
    "view = nglview.show_structure_file(pdbfile,\n",
    "                                   default_representation=True)"
   ]
  },
  {
   "cell_type": "code",
   "execution_count": 6,
   "metadata": {},
   "outputs": [
    {
     "data": {
      "application/vnd.jupyter.widget-view+json": {
       "model_id": "5f7e88d66b6e4b8a94c8c5c42c3cdfe6",
       "version_major": 2,
       "version_minor": 0
      },
      "text/plain": [
       "NGLWidget()"
      ]
     },
     "metadata": {},
     "output_type": "display_data"
    }
   ],
   "source": [
    "view\n",
    "view.clear()\n",
    "view.add_cartoon()\n",
    "view"
   ]
  },
  {
   "cell_type": "code",
   "execution_count": 5,
   "metadata": {},
   "outputs": [
    {
     "data": {
      "text/plain": [
       "'2.7.1'"
      ]
     },
     "execution_count": 5,
     "metadata": {},
     "output_type": "execute_result"
    }
   ],
   "source": [
    "nglview.__version__"
   ]
  },
  {
   "cell_type": "code",
   "execution_count": null,
   "metadata": {},
   "outputs": [],
   "source": []
  }
 ],
 "metadata": {
  "kernelspec": {
   "display_name": "Python 3",
   "language": "python",
   "name": "python3"
  },
  "language_info": {
   "codemirror_mode": {
    "name": "ipython",
    "version": 3
   },
   "file_extension": ".py",
   "mimetype": "text/x-python",
   "name": "python",
   "nbconvert_exporter": "python",
   "pygments_lexer": "ipython3",
   "version": "3.7.6"
  },
  "toc": {
   "nav_menu": {},
   "number_sections": true,
   "sideBar": true,
   "skip_h1_title": false,
   "toc_cell": false,
   "toc_position": {},
   "toc_section_display": "block",
   "toc_window_display": false
  }
 },
 "nbformat": 4,
 "nbformat_minor": 4
}
