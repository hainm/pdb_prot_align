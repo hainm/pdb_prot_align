{
 "cells": [
  {
   "cell_type": "markdown",
   "metadata": {},
   "source": [
    "# Interactive structures with nglview\n",
    "The [pdb_prot_align.nglview_struct](https://jbloomlab.github.io/pdb_prot_align/pdb_prot_align.nglview_struct.html) module contains functions that make it easy to manipulate and visualize structures using in [nglview](https://github.com/arose/nglview).\n",
    "\n",
    "Note that [nglview](https://github.com/arose/nglview) is designed for interactive use in a Jupyter notebook, so this example only works if run interactively.\n",
    "\n",
    "See [here](https://jbloomlab.github.io/pdb_prot_align/installation.html) instructions on installing [nglview](https://github.com/arose/nglview).\n",
    "\n",
    "This example shows how to color the structure of the CoV Spike using the results created by running `pdb_prot_align` in [the Spike CoV example](CoV_Spike.ipynb).\n",
    "As input, specify the paths of the PDB file and the `*_sites.csv` file used in that example:"
   ]
  },
  {
   "cell_type": "code",
   "execution_count": 1,
   "metadata": {},
   "outputs": [],
   "source": [
    "pdbfile = 'input_files/6crv.pdb'\n",
    "sites_csv = 'output_files/beta_coronavirus_Spike_sites.csv'"
   ]
  },
  {
   "cell_type": "markdown",
   "metadata": {},
   "source": [
    "First we import the necessary Python modules, which include [nglview](https://github.com/arose/nglview), [pdb_prot_align.colorschemes](https://jbloomlab.github.io/pdb_prot_align/pdb_prot_align.colorschemes) and [pdb_prot_align.nglview_struct](https://jbloomlab.github.io/pdb_prot_align/pdb_prot_align.nglview_struct.html):"
   ]
  },
  {
   "cell_type": "code",
   "execution_count": 2,
   "metadata": {},
   "outputs": [
    {
     "data": {
      "application/vnd.jupyter.widget-view+json": {
       "model_id": "b577f02105134181aa190645facbf31e",
       "version_major": 2,
       "version_minor": 0
      },
      "text/plain": [
       "_ColormakerRegistry()"
      ]
     },
     "metadata": {},
     "output_type": "display_data"
    }
   ],
   "source": [
    "import pandas as pd\n",
    "\n",
    "import nglview\n",
    "\n",
    "import pdb_prot_align\n",
    "\n",
    "import pdb_prot_align.colorschemes\n",
    "import pdb_prot_align.nglview_struct"
   ]
  },
  {
   "cell_type": "markdown",
   "metadata": {},
   "source": [
    "We are going to color the structure according to the number of effective amino acids, so we get the maximum number at any site to set the color scale limits (note that it would also be reasonable to color by entropy):"
   ]
  },
  {
   "cell_type": "code",
   "execution_count": 3,
   "metadata": {},
   "outputs": [
    {
     "name": "stdout",
     "output_type": "stream",
     "text": [
      "Max number of effective amino acids is 7.50\n"
     ]
    }
   ],
   "source": [
    "max_neff = pd.read_csv(sites_csv)['n_effective'].max()\n",
    "print(f\"Max number of effective amino acids is {max_neff:.2f}\")"
   ]
  },
  {
   "cell_type": "markdown",
   "metadata": {},
   "source": [
    "Create a [ValueToColorMap](https://jbloomlab.github.io/pdb_prot_align/pdb_prot_align.colorschemes.html#pdb_prot_align.colorschemes.ValueToColorMap) to map the numerical values to colors:"
   ]
  },
  {
   "cell_type": "code",
   "execution_count": 4,
   "metadata": {},
   "outputs": [
    {
     "data": {
      "image/png": "[encoded data removed]",
      "text/plain": [
       "<Figure size 252x28.8 with 1 Axes>"
      ]
     },
     "metadata": {
      "needs_background": "light"
     },
     "output_type": "display_data"
    }
   ],
   "source": [
    "n_eff_color_map = pdb_prot_align.colorschemes.ValueToColorMap(\n",
    "                            minvalue=1,  # min is 1 for n effective, 0 for entropy\n",
    "                            maxvalue=max_neff,\n",
    "                            cmap='viridis')\n",
    "\n",
    "_ = n_eff_color_map.scale_bar(label='effective amino acids', orientation='horizontal')"
   ]
  },
  {
   "cell_type": "markdown",
   "metadata": {},
   "source": [
    "Use [pdb_prot_align.nglview_struct.colorscheme_by_site](https://jbloomlab.github.io/pdb_prot_align/pdb_prot_align.nglview_struct.html#pdb_prot_align.nglview_struct.colorscheme_by_site) to register a [color scheme](https://github.com/dwhswenson/contact_map/pull/62) that colors by number of effective amino acids at each site:"
   ]
  },
  {
   "cell_type": "code",
   "execution_count": 5,
   "metadata": {},
   "outputs": [],
   "source": [
    "pdb_prot_align.nglview_struct.colorscheme_by_site(\n",
    "                               'n_effective_by_site',\n",
    "                                sites_df=sites_csv,\n",
    "                                color_by=('n_effective', n_eff_color_map))"
   ]
  },
  {
   "cell_type": "markdown",
   "metadata": {},
   "source": [
    "Now create a structure widget that shows a cartoon colored by site:"
   ]
  },
  {
   "cell_type": "code",
   "execution_count": 6,
   "metadata": {},
   "outputs": [
    {
     "data": {
      "application/vnd.jupyter.widget-view+json": {
       "model_id": "7dc5cb40e9f548f1944758fb35aa14d4",
       "version_major": 2,
       "version_minor": 0
      },
      "text/plain": [
       "NGLWidget()"
      ]
     },
     "metadata": {},
     "output_type": "display_data"
    }
   ],
   "source": [
    "view = nglview.show_structure_file(pdbfile,\n",
    "                                   default_representation=False)\n",
    "view.clear_representations()\n",
    "view.add_cartoon(color='n_effective_by_site', selection='protein')\n",
    "view.center()\n",
    "\n",
    "view"
   ]
  },
  {
   "cell_type": "markdown",
   "metadata": {},
   "source": [
    "Do the same, but show a space-filling representation and color by site entropy instead.\n",
    "First, make the color-mapping:"
   ]
  },
  {
   "cell_type": "code",
   "execution_count": 7,
   "metadata": {},
   "outputs": [
    {
     "name": "stdout",
     "output_type": "stream",
     "text": [
      "Max entropy is 2.91\n"
     ]
    },
    {
     "data": {
      "image/png": "[encoded data removed]",
      "text/plain": [
       "<Figure size 252x28.8 with 1 Axes>"
      ]
     },
     "metadata": {
      "needs_background": "light"
     },
     "output_type": "display_data"
    }
   ],
   "source": [
    "max_ent = pd.read_csv(sites_csv)['entropy'].max()\n",
    "print(f\"Max entropy is {max_ent:.2f}\")\n",
    "\n",
    "ent_color_map = pdb_prot_align.colorschemes.ValueToColorMap(\n",
    "                            minvalue=0,\n",
    "                            maxvalue=max_ent,\n",
    "                            cmap='viridis')\n",
    "\n",
    "_ = ent_color_map.scale_bar(label='site entropy', orientation='horizontal')"
   ]
  },
  {
   "cell_type": "markdown",
   "metadata": {},
   "source": [
    "Register the color scheme and add to the widget:"
   ]
  },
  {
   "cell_type": "code",
   "execution_count": 8,
   "metadata": {},
   "outputs": [
    {
     "data": {
      "application/vnd.jupyter.widget-view+json": {
       "model_id": "fd7e80a4b7064eb3b3acfd722f90b0e5",
       "version_major": 2,
       "version_minor": 0
      },
      "text/plain": [
       "NGLWidget()"
      ]
     },
     "metadata": {},
     "output_type": "display_data"
    }
   ],
   "source": [
    "pdb_prot_align.nglview_struct.colorscheme_by_site(\n",
    "                               'entropy_by_site',\n",
    "                                sites_df=sites_csv,\n",
    "                                color_by=('entropy', ent_color_map))\n",
    "view2 = nglview.show_structure_file(pdbfile,\n",
    "                                    default_representation=False)\n",
    "view2.clear_representations()\n",
    "view2.add_spacefill(color='entropy_by_site', selection='protein')\n",
    "view2.center()\n",
    "\n",
    "view2"
   ]
  },
  {
   "cell_type": "markdown",
   "metadata": {},
   "source": [
    "Here we color just one of the monomers by site entropy, and show the others in gray:"
   ]
  },
  {
   "cell_type": "code",
   "execution_count": 9,
   "metadata": {},
   "outputs": [
    {
     "data": {
      "application/vnd.jupyter.widget-view+json": {
       "model_id": "ab8824d51615406a8ad8400ca49d7ed7",
       "version_major": 2,
       "version_minor": 0
      },
      "text/plain": [
       "NGLWidget()"
      ]
     },
     "metadata": {},
     "output_type": "display_data"
    }
   ],
   "source": [
    "view3 = nglview.show_structure_file(pdbfile,\n",
    "                                    default_representation=False)\n",
    "view3.clear_representations()\n",
    "view3.add_spacefill(color='gray', selection='protein')\n",
    "view3.add_spacefill(color='entropy_by_site', selection='protein and :A')\n",
    "view3.center()\n",
    "\n",
    "view3"
   ]
  },
  {
   "cell_type": "code",
   "execution_count": null,
   "metadata": {},
   "outputs": [],
   "source": []
  }
 ],
 "metadata": {
  "kernelspec": {
   "display_name": "Python 3",
   "language": "python",
   "name": "python3"
  },
  "language_info": {
   "codemirror_mode": {
    "name": "ipython",
    "version": 3
   },
   "file_extension": ".py",
   "mimetype": "text/x-python",
   "name": "python",
   "nbconvert_exporter": "python",
   "pygments_lexer": "ipython3",
   "version": "3.7.6"
  },
  "toc": {
   "nav_menu": {},
   "number_sections": false,
   "sideBar": true,
   "skip_h1_title": false,
   "toc_cell": false,
   "toc_position": {},
   "toc_section_display": "block",
   "toc_window_display": true
  }
 },
 "nbformat": 4,
 "nbformat_minor": 4
}
