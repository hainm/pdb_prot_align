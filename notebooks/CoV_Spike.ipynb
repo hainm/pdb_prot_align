{
 "cells": [
  {
   "cell_type": "markdown",
   "metadata": {},
   "source": [
    "# Alignment of beta-coronavirus Spike proteins to a SARS-CoV structure\n",
    "\n",
    "In this example, we align a set of beta-coronavirus Spike proteins to each other and to the protein structure of a SARS-CoV Spike.\n",
    "\n",
    "The set of coronavirus Spike proteins are those that had their RBD domains studied by [Lekto and Munster (2019)](https://www.biorxiv.org/content/10.1101/2020.01.22.915660v1), and are from the Genbank accessions in Supplementary figure 1 of their pre-print.\n",
    "The **un-aligned** set of Spike protein sequences is in [input_files/beta_coronavirus_Spikes.fa](input_files/beta_coronavirus_Spikes.fa).\n",
    "Here are the first few lines:"
   ]
  },
  {
   "cell_type": "code",
   "execution_count": 1,
   "metadata": {},
   "outputs": [
    {
     "name": "stdout",
     "output_type": "stream",
     "text": [
      ">AY278741|SARS Urbani|human\n",
      "MFIFLLFLTLTSGSDLDRCTTFDDVQAPNYTQHTSSMRGVYYPDEIFRSDTLYLTQDLFLPFYSNVTGFHTINHTFGNPVIPFKDGIYFAATEKSNVVRGWVFGSTMNNKSQSVIIINNSTNVVIRACNFELCDNPFFAVSKPMGTQTHTMIFDNAFNCTFEYISDAFSLDVSEKSGNFKHLREFVFKNKDGFLYVYKGYQPIDVVRDLPSGFNTLKPIFKLPLGINITNFRAILTAFSPAQDIWGTSAAAYFVGYLKPTTFMLKYDENGTITDAVDCSQNPLAELKCSVKSFEIDKGIYQTSNFRVVPSGDVVRFPNITNLCPFGEVFNATKFPSVYAWERKKISNCVADYSVLYNSTFFSTFKCYGVSATKLNDLCFSNVYADSFVVKGDDVRQIAPGQTGVIADYNYKLPDDFMGCVLAWNTRNIDATSTGNYNYKYRYLRHGKLRPFERDISNVPFSPDGKPCTPPALNCYWPLNDYGFYTTTGIGYQPYRVVVLSFELLNAPATVCGPKLSTDLIKNQCVNFNFNGLTGTGVLTPSSKRFQPFQQFGRDVSDFTDSVRDPKTSEILDISPCSFGGVSVITPGTNASSEVAVLYQDVNCTDVSTAIHADQLTPAWRIYSTGNNVFQTQAGCLIGAEHVDTSYECDIPIGAGICASYHTVSLLRSTSQKSIVAYTMSLGADSSIAYSNNTIAIPTNFSISITTEVMPVSMAKTSVDCNMYICGDSTECANLLLQYGSFCTQLNRALSGIAAEQDRNTREVFAQVKQMYKTPTLKYFGGFNFSQILPDPLKPTKRSFIEDLLFNKVTLADAGFMKQYGECLGDINARDLICAQKFNGLTVLPPLLTDDMIAAYTAALVSGTATAGWTFGAGAALQIPFAMQMAYRFNGIGVTQNVLYENQKQIANQFNKAISQIQESLTTTSTALGKLQDVVNQNAQALNTLVKQLSSNFGAISSVLNDILSRLDKVEAEVQIDRLITGRLQSLQTYVTQQLIRAAEIRASANLAATKMSECVLGQSKRVDFCGKGYHLMSFPQAAPHGVVFLHVTYVPSQERNFTTAPAICHEGKAYFPREGVFVFNGTSWFITQRNFFSPQIITTDNTFVSGNCDVVIGIINNTVYDPLQPELDSFKEELDKYFKNHTSPDVDLGDISGINASVVNIQKEIDRLNEVAKNLNESLIDLQELGKYEQYIKWPWYVWLGFIAGLIAIVMVTILLCCMTSCCSCLKGACSCGSCCKFDEDDSEPVLKGVKLHYT\n",
      ">KF367457|WIV1|bat\n",
      "MKLLVLVFATLVSSYTIEKCLDFDDRTPPANTQFLSSHRGVYYPDDIFRSNVLHLVQDHFLPFDSNVTRFITFGLNFDNPIIPFKDGIYFAATEKSNVIRGWVFGSTMNNKSQSVIIMNNSTNLVIRACNFELCDNPFFVVLKSNNTQIPSYIFNNAFNCTFEYVSKDFNLDLGEKPGNFKDLREFVFRNKDGFLHVYSGYQPISAASGLPTGFNALKPIFKLPLGINITNFRTLLTAFPPRPDYWGTSAAAYFVGYLKPTTFMLKYDENGTITDAVDCSQNPLAELKCSVKSFEIDKGIYQTSNFRVAPSKEVVRFPNITNLCPFGEVFNATTFPSVYAWERKRISNCVADYSVLYNSTSFSTFKCYGVSATKLNDLCFSNVYADSFVVKGDDVRQIAPGQTGVIADYNYKLPDDFTGCVLAWNTRNIDATQTGNYNYKYRSLRHGKLRPFERDISNVPFSPDGKPCTPPAFNCYWPLNDYGFYITNGIGYQPYRVVVLSFELLNAPATVCGPKLSTDLIKNQCVNFNFNGLTGTGVLTPSSKRFQPFQQFGRDVSDFTDSVRDPKTSEILDISPCSFGGVSVITPGTNTSSEVAVLYQDVNCTDVPVAIHADQLTPSWRVHSTGNNVFQTQAGCLIGAEHVDTSYECDIPIGAGICASYHTVSSLRSTSQKSIVAYTMSLGADSSIAYSNNTIAIPTNFSISITTEVMPVSMAKTSVDCNMYICGDSTECANLLLQYGSFCTQLNRALSGIAVEQDRNTREVFAQVKQMYKTPTLKDFGGFNFSQILPDPLKPTKRSFIEDLLFNKVTLADAGFMKQYGECLGDINARDLICAQKFNGLTVLPPLLTDDMIAAYTAALVSGTATAGWTFGAGAALQIPFAMQMAYRFNGIGVTQNVLYENQKQIANQFNKAISQIQESLTTTSTALGKLQDVVNQNAQALNTLVKQLSSNFGAISSVLNDILSRLDKVEAEVQIDRLITGRLQSLQTYVTQQLIRAAEIRASANLAATKMSECVLGQSKRVDFCGKGYHLMSFPQAAPHGVVFLHVTYVPSQERNFTTAPAICHEGKAYFPREGVFVFNGTSWFITQRNFFSPQIITTDNTFVSGSCDVVIGIINNTVYDPLQPELDSFKEELDKYFKNHTSPDVDLGDISGINASVVNIQKEIDRLNEVAKNLNESLIDLQELGKYEQYIKWPWYVWLGFIAGLIAIVMVTILLCCMTSCCSCLKGACSCGSCCKFDEDDSEPVLKGVKLHYT\n"
     ]
    }
   ],
   "source": [
    "! head -n 4 input_files/beta_coronavirus_Spikes.fa"
   ]
  },
  {
   "cell_type": "markdown",
   "metadata": {},
   "source": [
    "We would like to align these Spike proteins to each and to the protein chains in a cryo-EM structure of the SARS-CoV Spike, [PDB 6crv](https://www.rcsb.org/structure/6CRV).\n",
    "That PDB structure is at [input_files/6crv.pdb](input_files/6crv.pdb), and has three chains (`A`, `B`, and `C`) each corresponding to monomers in the Spike trimer.\n",
    "Here are the first few lines of the PDB file:"
   ]
  },
  {
   "cell_type": "code",
   "execution_count": 2,
   "metadata": {},
   "outputs": [
    {
     "name": "stdout",
     "output_type": "stream",
     "text": [
      "HEADER    VIRAL PROTEIN                           19-MAR-18   6CRV              \n",
      "TITLE     SARS SPIKE GLYCOPROTEIN, STABILIZED VARIANT, C3 SYMMETRY              \n",
      "COMPND    MOL_ID: 1;                                                            \n",
      "COMPND   2 MOLECULE: SPIKE GLYCOPROTEIN,FIBRITIN;                               \n",
      "COMPND   3 CHAIN: A, B, C;                                                      \n",
      "COMPND   4 SYNONYM: S GLYCOPROTEIN,E2,PEPLOMER PROTEIN;                         \n",
      "COMPND   5 ENGINEERED: YES;                                                     \n",
      "COMPND   6 MUTATION: YES                                                        \n"
     ]
    }
   ],
   "source": [
    "! head -n 8 input_files/6crv.pdb"
   ]
  },
  {
   "cell_type": "markdown",
   "metadata": {},
   "source": [
    "Finally, we need to choose a \"reference\" sequence in the alignment.\n",
    "All gaps in the alignment are stripped relative to this reference, and in addition to the PDB numbering we will get sites in the reference in 1, 2, ... numbering.\n",
    "Since we are most interested in the 2019-nCoV from Wuhan, we will choose that as our reference sequence.\n",
    "It's sequence header in [input_files/beta_coronavirus_Spikes.fa](input_files/beta_coronavirus_Spikes.fa) contains the unique substring `Wuhan-CoV`, which we will use to identify it.\n",
    "\n",
    "Now we run `pdb_prot_align`, sending the output files to the subdirectory `./output_files/` (which needs to have already been created):"
   ]
  },
  {
   "cell_type": "code",
   "execution_count": 3,
   "metadata": {},
   "outputs": [
    {
     "name": "stdout",
     "output_type": "stream",
     "text": [
      "\n",
      "Running `pdb_prot_align` 0.1.0\n",
      "\n",
      "Parsing PDB input_files/6crv.pdb chains A B C\n",
      "Parsed sequence of 881 residues, ranging from 18 to 1120 in PDB numbering.\n",
      "\n",
      "Read 30 sequences from input_files/beta_coronavirus_Spikes.fa\n",
      "Reference protein is of length 1273 and has the following header:\n",
      "MN908947|Wuhan-CoV|human\n",
      "\n",
      "Using `mafft` to align sequences to output_files/beta_coronavirus_Spike_alignment_unstripped.fa\n",
      "Dropping PDB sequence PDB_6crv from alignment\n",
      "Stripping gaps relative to reference MN908947|Wuhan-CoV|human\n",
      "Writing gap-stripped alignment to output_files/beta_coronavirus_Spike_alignment.fa\n",
      "\n",
      "Writing CSV with detailed information to output_files/beta_coronavirus_Spike_stats.csv\n",
      "\n",
      "Program complete.\n",
      "\n"
     ]
    }
   ],
   "source": [
    "! pdb_prot_align --protsfile input_files/beta_coronavirus_Spikes.fa \\\n",
    "                 --refprot_regex Wuhan-CoV \\\n",
    "                 --pdbfile input_files/6crv.pdb \\\n",
    "                 --chain_ids A B C \\\n",
    "                 --alignment output_files/beta_coronavirus_Spike_alignment.fa \\\n",
    "                 --csv output_files/beta_coronavirus_Spike_stats.csv"
   ]
  },
  {
   "cell_type": "markdown",
   "metadata": {},
   "source": [
    "The alignment output file ([output_files/beta_coronavirus_Spike_alignment.fa](output_files/beta_coronavirus_Spike_alignment.fa)) has the Spike alignment with all gaps stripped relative to the reference sequence.\n",
    "It does **not** include the PDB protein (you can change that with the `--drop_pdb` option; also there is a file with the PDB and no gaps stripped at [output_files/beta_coronavirus_Spike_alignment_unstripped.fa](output_files/beta_coronavirus_Spike_alignment_unstripped.fa)).\n",
    "Here are the first few lines:"
   ]
  },
  {
   "cell_type": "code",
   "execution_count": 4,
   "metadata": {},
   "outputs": [
    {
     "name": "stdout",
     "output_type": "stream",
     "text": [
      ">AY278741|SARS Urbani|human\n",
      "MFIFLLFLTL--DRCTTFDDVQAPNYTQHTSSMRGVYYPDEIFRSDTLYLTQDLFLPFYSNVTGFHTINHT-------FGNPVIPFKDGIYFAATEKSNVVRGWVFGSTMNNKSQSVIIINNSTNVVIRACNFELCDNPFFAVSKPMGTQTHT----MIFDNAFNCTFEYISDAFSLDVSEKSGNFKHLREFVFKNKDGFLYVYKGYQPIDVVRDLPSGFNTLKPIFKLPLGINITNFRAILTAFS------PAQDIWGTSAAAYFVGYLKPTTFMLKYDENGTITDAVDCSQNPLAELKCSVKSFEIDKGIYQTSNFRVVPSGDVVRFPNITNLCPFGEVFNATKFPSVYAWERKKISNCVADYSVLYNSTFFSTFKCYGVSATKLNDLCFSNVYADSFVVKGDDVRQIAPGQTGVIADYNYKLPDDFMGCVLAWNTRNIDATSTGNYNYKYRYLRHGKLRPFERDISNVPFSPDGKPCTPP-ALNCYWPLNDYGFYTTTGIGYQPYRVVVLSFELLNAPATVCGPKLSTDLIKNQCVNFNFNGLTGTGVLTPSSKRFQPFQQFGRDVSDFTDSVRDPKTSEILDISPCSFGGVSVITPGTNASSEVAVLYQDVNCTDVSTAIHADQLTPAWRIYSTGNNVFQTQAGCLIGAEHVDTSYECDIPIGAGICASYHTVSL----LRSTSQKSIVAYTMSLGADSSIAYSNNTIAIPTNFSISITTEVMPVSMAKTSVDCNMYICGDSTECANLLLQYGSFCTQLNRALSGIAAEQDRNTREVFAQVKQMYKTPTLKYFGGFNFSQILPDPLKPTKRSFIEDLLFNKVTLADAGFMKQYGECLGDINARDLICAQKFNGLTVLPPLLTDDMIAAYTAALVSGTATAGWTFGAGAALQIPFAMQMAYRFNGIGVTQNVLYENQKQIANQFNKAISQIQESLTTTSTALGKLQDVVNQNAQALNTLVKQLSSNFGAISSVLNDILSRLDKVEAEVQIDRLITGRLQSLQTYVTQQLIRAAEIRASANLAATKMSECVLGQSKRVDFCGKGYHLMSFPQAAPHGVVFLHVTYVPSQERNFTTAPAICHEGKAYFPREGVFVFNGTSWFITQRNFFSPQIITTDNTFVSGNCDVVIGIINNTVYDPLQPELDSFKEELDKYFKNHTSPDVDLGDISGINASVVNIQKEIDRLNEVAKNLNESLIDLQELGKYEQYIKWPWYVWLGFIAGLIAIVMVTILLCCMTSCCSCLKGACSCGSCCKFDEDDSEPVLKGVKLHYT\n",
      ">KF367457|WIV1|bat\n",
      "KLLVLVFATL--EKCLDFDDRTPPANTQFLSSHRGVYYPDDIFRSNVLHLVQDHFLPFDSNVTRFITFGLN-------FDNPIIPFKDGIYFAATEKSNVIRGWVFGSTMNNKSQSVIIMNNSTNLVIRACNFELCDNPFFVVLKSNNTQIPS----YIFNNAFNCTFEYVSKDFNLDLGEKPGNFKDLREFVFRNKDGFLHVYSGYQPISAASGLPTGFNALKPIFKLPLGINITNFRTLLTAFP------PRPDYWGTSAAAYFVGYLKPTTFMLKYDENGTITDAVDCSQNPLAELKCSVKSFEIDKGIYQTSNFRVAPSKEVVRFPNITNLCPFGEVFNATTFPSVYAWERKRISNCVADYSVLYNSTSFSTFKCYGVSATKLNDLCFSNVYADSFVVKGDDVRQIAPGQTGVIADYNYKLPDDFTGCVLAWNTRNIDATQTGNYNYKYRSLRHGKLRPFERDISNVPFSPDGKPCTPP-AFNCYWPLNDYGFYITNGIGYQPYRVVVLSFELLNAPATVCGPKLSTDLIKNQCVNFNFNGLTGTGVLTPSSKRFQPFQQFGRDVSDFTDSVRDPKTSEILDISPCSFGGVSVITPGTNTSSEVAVLYQDVNCTDVPVAIHADQLTPSWRVHSTGNNVFQTQAGCLIGAEHVDTSYECDIPIGAGICASYHTVSS----LRSTSQKSIVAYTMSLGADSSIAYSNNTIAIPTNFSISITTEVMPVSMAKTSVDCNMYICGDSTECANLLLQYGSFCTQLNRALSGIAVEQDRNTREVFAQVKQMYKTPTLKDFGGFNFSQILPDPLKPTKRSFIEDLLFNKVTLADAGFMKQYGECLGDINARDLICAQKFNGLTVLPPLLTDDMIAAYTAALVSGTATAGWTFGAGAALQIPFAMQMAYRFNGIGVTQNVLYENQKQIANQFNKAISQIQESLTTTSTALGKLQDVVNQNAQALNTLVKQLSSNFGAISSVLNDILSRLDKVEAEVQIDRLITGRLQSLQTYVTQQLIRAAEIRASANLAATKMSECVLGQSKRVDFCGKGYHLMSFPQAAPHGVVFLHVTYVPSQERNFTTAPAICHEGKAYFPREGVFVFNGTSWFITQRNFFSPQIITTDNTFVSGSCDVVIGIINNTVYDPLQPELDSFKEELDKYFKNHTSPDVDLGDISGINASVVNIQKEIDRLNEVAKNLNESLIDLQELGKYEQYIKWPWYVWLGFIAGLIAIVMVTILLCCMTSCCSCLKGACSCGSCCKFDEDDSEPVLKGVKLHYT\n"
     ]
    }
   ],
   "source": [
    "! head -n 4 output_files/beta_coronavirus_Spike_alignment.fa"
   ]
  },
  {
   "cell_type": "markdown",
   "metadata": {},
   "source": [
    "However, the really \"precious\" information is in the output CSV file, [output_files/beta_coronavirus_Spike_stats.csv](output_files/beta_coronavirus_Spike_stats.csv).\n",
    "Here are the first few lines of that file:"
   ]
  },
  {
   "cell_type": "code",
   "execution_count": 5,
   "metadata": {},
   "outputs": [
    {
     "name": "stdout",
     "output_type": "stream",
     "text": [
      "isite,pdb_site,wildtype,pdb_wildtype,entropy,n_effective,amino_acid,frequency\n",
      "1,,M,,1.26865,3.55604,A,0.00000\n",
      "1,,M,,1.26865,3.55604,C,0.00000\n",
      "1,,M,,1.26865,3.55604,D,0.00000\n",
      "1,,M,,1.26865,3.55604,E,0.00000\n",
      "1,,M,,1.26865,3.55604,F,0.03333\n",
      "1,,M,,1.26865,3.55604,G,0.00000\n",
      "1,,M,,1.26865,3.55604,H,0.00000\n",
      "1,,M,,1.26865,3.55604,I,0.40000\n",
      "1,,M,,1.26865,3.55604,K,0.13333\n"
     ]
    }
   ],
   "source": [
    "! head output_files/beta_coronavirus_Spike_stats.csv"
   ]
  },
  {
   "cell_type": "markdown",
   "metadata": {},
   "source": [
    "You can see that it contains an `isite` column, which is 1, 2, ... numbering of our reference sequence (in this case, the 2019-nCoV from Wuhan).\n",
    "Then there is a `pdb_site` column which gives the corresponding site number in the PDB (empty for the lines above since there isn't any PDB structure for the first part of the protein).\n",
    "Then are the wildtype residues in the reference sequence and the PDB.\n",
    "Next there is evolutionary information for all sequences in the alignment (excluding the PDB, see the `--drop_pdb` option) in terms of the site entropy (in bits), the number of effective amino acids, and the frequency of each amino acid in tidy format.\n",
    "Gaps are not included in these calculations (see the `--ignore_gaps` option).\n",
    "\n",
    "Here are some lines more in the middle of the file, where there is PDB information:"
   ]
  },
  {
   "cell_type": "code",
   "execution_count": 6,
   "metadata": {},
   "outputs": [
    {
     "name": "stdout",
     "output_type": "stream",
     "text": [
      "101,98,I,V,0.71551,2.04524,R,0.00000\n",
      "101,98,I,V,0.71551,2.04524,S,0.00000\n",
      "101,98,I,V,0.71551,2.04524,T,0.00000\n",
      "101,98,I,V,0.71551,2.04524,V,0.26667\n",
      "101,98,I,V,0.71551,2.04524,W,0.00000\n",
      "101,98,I,V,0.71551,2.04524,Y,0.00000\n",
      "102,99,R,R,-0.00000,1.00000,A,0.00000\n",
      "102,99,R,R,-0.00000,1.00000,C,0.00000\n",
      "102,99,R,R,-0.00000,1.00000,D,0.00000\n",
      "102,99,R,R,-0.00000,1.00000,E,0.00000\n"
     ]
    }
   ],
   "source": [
    "! head -n 2025 output_files/beta_coronavirus_Spike_stats.csv | tail"
   ]
  },
  {
   "cell_type": "markdown",
   "metadata": {},
   "source": [
    "The information in this file are extremely useful if you want to plot evolutionary conservation or amino-acid identities onto the structure.\n",
    "But do that, you need to use a protein viewer such as [pymol](https://pymol.org/) or [nglview](http://nglviewer.org/nglview/latest/)."
   ]
  }
 ],
 "metadata": {
  "kernelspec": {
   "display_name": "Python 3",
   "language": "python",
   "name": "python3"
  },
  "language_info": {
   "codemirror_mode": {
    "name": "ipython",
    "version": 3
   },
   "file_extension": ".py",
   "mimetype": "text/x-python",
   "name": "python",
   "nbconvert_exporter": "python",
   "pygments_lexer": "ipython3",
   "version": "3.6.7"
  }
 },
 "nbformat": 4,
 "nbformat_minor": 4
}
